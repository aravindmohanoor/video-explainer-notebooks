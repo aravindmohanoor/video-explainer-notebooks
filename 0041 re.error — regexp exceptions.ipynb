{
 "cells": [
  {
   "cell_type": "code",
   "execution_count": 20,
   "metadata": {},
   "outputs": [
    {
     "name": "stdout",
     "output_type": "stream",
     "text": [
      "regexp error: missing ), unterminated subpattern at position 0\n",
      "problem pattern: (a-t {4}\n",
      "problem pos: 0\n",
      "problem lineno: 1\n",
      "problem colno: 1\n"
     ]
    }
   ],
   "source": [
    "import re\n",
    "\n",
    "s = 'what a wonderful day we are having'\n",
    "\n",
    "try:\n",
    "    print(re.findall('(a-t {4}', s))\n",
    "except re.error as e:\n",
    "    print(f'regexp error: {e}')\n",
    "    print(f'problem pattern: {e.pattern}')\n",
    "    print(f'problem pos: {e.pos}')\n",
    "    print(f'problem lineno: {e.lineno}')\n",
    "    print(f'problem colno: {e.colno}')"
   ]
  },
  {
   "cell_type": "code",
   "execution_count": 6,
   "metadata": {},
   "outputs": [
    {
     "data": {
      "text/plain": [
       "re.error"
      ]
     },
     "execution_count": 6,
     "metadata": {},
     "output_type": "execute_result"
    }
   ],
   "source": [
    "re.error"
   ]
  },
  {
   "cell_type": "code",
   "execution_count": 7,
   "metadata": {},
   "outputs": [
    {
     "data": {
      "text/plain": [
       "type"
      ]
     },
     "execution_count": 7,
     "metadata": {},
     "output_type": "execute_result"
    }
   ],
   "source": [
    "type(re.error)"
   ]
  },
  {
   "cell_type": "code",
   "execution_count": 8,
   "metadata": {},
   "outputs": [
    {
     "data": {
      "text/plain": [
       "(Exception,)"
      ]
     },
     "execution_count": 8,
     "metadata": {},
     "output_type": "execute_result"
    }
   ],
   "source": [
    "re.error.__bases__"
   ]
  },
  {
   "cell_type": "code",
   "execution_count": null,
   "metadata": {},
   "outputs": [],
   "source": []
  }
 ],
 "metadata": {
  "kernelspec": {
   "display_name": "Python 3",
   "language": "python",
   "name": "python3"
  },
  "language_info": {
   "codemirror_mode": {
    "name": "ipython",
    "version": 3
   },
   "file_extension": ".py",
   "mimetype": "text/x-python",
   "name": "python",
   "nbconvert_exporter": "python",
   "pygments_lexer": "ipython3",
   "version": "3.7.4"
  }
 },
 "nbformat": 4,
 "nbformat_minor": 2
}
